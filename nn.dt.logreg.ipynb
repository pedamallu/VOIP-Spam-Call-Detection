{
 "cells": [
  {
   "cell_type": "code",
   "execution_count": 1,
   "metadata": {},
   "outputs": [],
   "source": [
    "import numpy as np\n",
    "import pandas as pd\n",
    "import seaborn as sns\n",
    "import matplotlib.pyplot as plt\n",
    "%matplotlib inline"
   ]
  },
  {
   "cell_type": "code",
   "execution_count": 2,
   "metadata": {},
   "outputs": [],
   "source": [
    "dataset = pd.read_csv('6_lakh(head).csv')"
   ]
  },
  {
   "cell_type": "code",
   "execution_count": 3,
   "metadata": {},
   "outputs": [
    {
     "data": {
      "text/html": [
       "<div>\n",
       "<style scoped>\n",
       "    .dataframe tbody tr th:only-of-type {\n",
       "        vertical-align: middle;\n",
       "    }\n",
       "\n",
       "    .dataframe tbody tr th {\n",
       "        vertical-align: top;\n",
       "    }\n",
       "\n",
       "    .dataframe thead th {\n",
       "        text-align: right;\n",
       "    }\n",
       "</style>\n",
       "<table border=\"1\" class=\"dataframe\">\n",
       "  <thead>\n",
       "    <tr style=\"text-align: right;\">\n",
       "      <th></th>\n",
       "      <th>FROM</th>\n",
       "      <th>TO</th>\n",
       "      <th>DURATION</th>\n",
       "      <th>mu</th>\n",
       "      <th>Sigma</th>\n",
       "      <th>psi</th>\n",
       "      <th>LABEL</th>\n",
       "    </tr>\n",
       "  </thead>\n",
       "  <tbody>\n",
       "    <tr>\n",
       "      <th>0</th>\n",
       "      <td>726</td>\n",
       "      <td>1609</td>\n",
       "      <td>126</td>\n",
       "      <td>1.0</td>\n",
       "      <td>126.0</td>\n",
       "      <td>0.842105</td>\n",
       "      <td>1</td>\n",
       "    </tr>\n",
       "    <tr>\n",
       "      <th>1</th>\n",
       "      <td>4252</td>\n",
       "      <td>147</td>\n",
       "      <td>77</td>\n",
       "      <td>1.0</td>\n",
       "      <td>357.5</td>\n",
       "      <td>2.652174</td>\n",
       "      <td>1</td>\n",
       "    </tr>\n",
       "  </tbody>\n",
       "</table>\n",
       "</div>"
      ],
      "text/plain": [
       "   FROM    TO  DURATION   mu  Sigma       psi  LABEL\n",
       "0   726  1609       126  1.0  126.0  0.842105      1\n",
       "1  4252   147        77  1.0  357.5  2.652174      1"
      ]
     },
     "execution_count": 3,
     "metadata": {},
     "output_type": "execute_result"
    }
   ],
   "source": [
    "dataset.head(2)"
   ]
  },
  {
   "cell_type": "code",
   "execution_count": 4,
   "metadata": {},
   "outputs": [
    {
     "data": {
      "text/html": [
       "<div>\n",
       "<style scoped>\n",
       "    .dataframe tbody tr th:only-of-type {\n",
       "        vertical-align: middle;\n",
       "    }\n",
       "\n",
       "    .dataframe tbody tr th {\n",
       "        vertical-align: top;\n",
       "    }\n",
       "\n",
       "    .dataframe thead th {\n",
       "        text-align: right;\n",
       "    }\n",
       "</style>\n",
       "<table border=\"1\" class=\"dataframe\">\n",
       "  <thead>\n",
       "    <tr style=\"text-align: right;\">\n",
       "      <th></th>\n",
       "      <th>FROM</th>\n",
       "      <th>TO</th>\n",
       "      <th>DURATION</th>\n",
       "      <th>mu</th>\n",
       "      <th>Sigma</th>\n",
       "      <th>psi</th>\n",
       "      <th>LABEL</th>\n",
       "    </tr>\n",
       "  </thead>\n",
       "  <tbody>\n",
       "    <tr>\n",
       "      <th>count</th>\n",
       "      <td>600000.000000</td>\n",
       "      <td>600000.000000</td>\n",
       "      <td>600000.000000</td>\n",
       "      <td>600000.000000</td>\n",
       "      <td>600000.000000</td>\n",
       "      <td>600000.000000</td>\n",
       "      <td>600000.000000</td>\n",
       "    </tr>\n",
       "    <tr>\n",
       "      <th>mean</th>\n",
       "      <td>4527.501758</td>\n",
       "      <td>4870.536165</td>\n",
       "      <td>271.085063</td>\n",
       "      <td>0.984682</td>\n",
       "      <td>271.121336</td>\n",
       "      <td>88.153504</td>\n",
       "      <td>0.742227</td>\n",
       "    </tr>\n",
       "    <tr>\n",
       "      <th>std</th>\n",
       "      <td>2883.846327</td>\n",
       "      <td>2925.016824</td>\n",
       "      <td>235.124603</td>\n",
       "      <td>0.089062</td>\n",
       "      <td>230.237627</td>\n",
       "      <td>205.526020</td>\n",
       "      <td>0.437409</td>\n",
       "    </tr>\n",
       "    <tr>\n",
       "      <th>min</th>\n",
       "      <td>1.000000</td>\n",
       "      <td>1.000000</td>\n",
       "      <td>0.000000</td>\n",
       "      <td>0.142857</td>\n",
       "      <td>0.000000</td>\n",
       "      <td>0.000084</td>\n",
       "      <td>0.000000</td>\n",
       "    </tr>\n",
       "    <tr>\n",
       "      <th>25%</th>\n",
       "      <td>2080.000000</td>\n",
       "      <td>2099.000000</td>\n",
       "      <td>20.000000</td>\n",
       "      <td>1.000000</td>\n",
       "      <td>20.000000</td>\n",
       "      <td>0.742424</td>\n",
       "      <td>0.000000</td>\n",
       "    </tr>\n",
       "    <tr>\n",
       "      <th>50%</th>\n",
       "      <td>4151.000000</td>\n",
       "      <td>5133.000000</td>\n",
       "      <td>244.000000</td>\n",
       "      <td>1.000000</td>\n",
       "      <td>255.000000</td>\n",
       "      <td>1.204819</td>\n",
       "      <td>1.000000</td>\n",
       "    </tr>\n",
       "    <tr>\n",
       "      <th>75%</th>\n",
       "      <td>6911.000000</td>\n",
       "      <td>7610.000000</td>\n",
       "      <td>472.000000</td>\n",
       "      <td>1.000000</td>\n",
       "      <td>461.500000</td>\n",
       "      <td>5.386792</td>\n",
       "      <td>1.000000</td>\n",
       "    </tr>\n",
       "    <tr>\n",
       "      <th>max</th>\n",
       "      <td>10000.000000</td>\n",
       "      <td>10000.000000</td>\n",
       "      <td>13000.000000</td>\n",
       "      <td>1.000000</td>\n",
       "      <td>13000.000000</td>\n",
       "      <td>653.000000</td>\n",
       "      <td>1.000000</td>\n",
       "    </tr>\n",
       "  </tbody>\n",
       "</table>\n",
       "</div>"
      ],
      "text/plain": [
       "                FROM             TO       DURATION             mu  \\\n",
       "count  600000.000000  600000.000000  600000.000000  600000.000000   \n",
       "mean     4527.501758    4870.536165     271.085063       0.984682   \n",
       "std      2883.846327    2925.016824     235.124603       0.089062   \n",
       "min         1.000000       1.000000       0.000000       0.142857   \n",
       "25%      2080.000000    2099.000000      20.000000       1.000000   \n",
       "50%      4151.000000    5133.000000     244.000000       1.000000   \n",
       "75%      6911.000000    7610.000000     472.000000       1.000000   \n",
       "max     10000.000000   10000.000000   13000.000000       1.000000   \n",
       "\n",
       "               Sigma            psi          LABEL  \n",
       "count  600000.000000  600000.000000  600000.000000  \n",
       "mean      271.121336      88.153504       0.742227  \n",
       "std       230.237627     205.526020       0.437409  \n",
       "min         0.000000       0.000084       0.000000  \n",
       "25%        20.000000       0.742424       0.000000  \n",
       "50%       255.000000       1.204819       1.000000  \n",
       "75%       461.500000       5.386792       1.000000  \n",
       "max     13000.000000     653.000000       1.000000  "
      ]
     },
     "execution_count": 4,
     "metadata": {},
     "output_type": "execute_result"
    }
   ],
   "source": [
    "dataset.describe(include='all')"
   ]
  },
  {
   "cell_type": "code",
   "execution_count": 5,
   "metadata": {},
   "outputs": [
    {
     "data": {
      "text/plain": [
       "<matplotlib.axes._subplots.AxesSubplot at 0x1ceaae22108>"
      ]
     },
     "execution_count": 5,
     "metadata": {},
     "output_type": "execute_result"
    },
    {
     "data": {
      "image/png": "[encoded data removed]",
      "text/plain": [
       "<Figure size 432x288 with 2 Axes>"
      ]
     },
     "metadata": {
      "needs_background": "light"
     },
     "output_type": "display_data"
    }
   ],
   "source": [
    "##We plot the heatmap by using the correlation for the dataset. \n",
    "##This helps us eliminate any features that may not help with prediction.\n",
    "sns.heatmap(dataset.corr(), annot=True)"
   ]
  },
  {
   "cell_type": "code",
   "execution_count": 6,
   "metadata": {},
   "outputs": [],
   "source": [
    "# creating input features and target variables\n",
    "X= dataset.iloc[:,0:6]\n",
    "y= dataset.iloc[:,6]"
   ]
  },
  {
   "cell_type": "code",
   "execution_count": 7,
   "metadata": {},
   "outputs": [
    {
     "data": {
      "text/html": [
       "<div>\n",
       "<style scoped>\n",
       "    .dataframe tbody tr th:only-of-type {\n",
       "        vertical-align: middle;\n",
       "    }\n",
       "\n",
       "    .dataframe tbody tr th {\n",
       "        vertical-align: top;\n",
       "    }\n",
       "\n",
       "    .dataframe thead th {\n",
       "        text-align: right;\n",
       "    }\n",
       "</style>\n",
       "<table border=\"1\" class=\"dataframe\">\n",
       "  <thead>\n",
       "    <tr style=\"text-align: right;\">\n",
       "      <th></th>\n",
       "      <th>FROM</th>\n",
       "      <th>TO</th>\n",
       "      <th>DURATION</th>\n",
       "      <th>mu</th>\n",
       "      <th>Sigma</th>\n",
       "      <th>psi</th>\n",
       "    </tr>\n",
       "  </thead>\n",
       "  <tbody>\n",
       "    <tr>\n",
       "      <th>0</th>\n",
       "      <td>726</td>\n",
       "      <td>1609</td>\n",
       "      <td>126</td>\n",
       "      <td>1.0</td>\n",
       "      <td>126.0</td>\n",
       "      <td>0.842105</td>\n",
       "    </tr>\n",
       "    <tr>\n",
       "      <th>1</th>\n",
       "      <td>4252</td>\n",
       "      <td>147</td>\n",
       "      <td>77</td>\n",
       "      <td>1.0</td>\n",
       "      <td>357.5</td>\n",
       "      <td>2.652174</td>\n",
       "    </tr>\n",
       "  </tbody>\n",
       "</table>\n",
       "</div>"
      ],
      "text/plain": [
       "   FROM    TO  DURATION   mu  Sigma       psi\n",
       "0   726  1609       126  1.0  126.0  0.842105\n",
       "1  4252   147        77  1.0  357.5  2.652174"
      ]
     },
     "execution_count": 7,
     "metadata": {},
     "output_type": "execute_result"
    }
   ],
   "source": [
    "X.head(2)"
   ]
  },
  {
   "cell_type": "code",
   "execution_count": 8,
   "metadata": {},
   "outputs": [
    {
     "data": {
      "text/plain": [
       "array([[-1.31820648, -1.11504961, -0.61705658,  0.17199445, -0.63031164,\n",
       "        -0.42481955],\n",
       "       [-0.09553283, -1.61487622, -0.8254569 ,  0.17199445,  0.37517211,\n",
       "        -0.41601254],\n",
       "       [ 0.85597498, -0.04873007,  1.76040821,  0.17199445,  1.79761672,\n",
       "        -0.42548602],\n",
       "       ...,\n",
       "       [-0.71484512, -0.88701655, -1.08489402,  0.17199445, -1.11097486,\n",
       "        -0.39860966],\n",
       "       [-0.01508464, -1.39983454, -1.14443697,  0.17199445, -1.16888609,\n",
       "        -0.37683727],\n",
       "       [-1.38166345, -1.55709872, -1.1401839 ,  0.17199445, -1.16454275,\n",
       "         2.56340747]])"
      ]
     },
     "execution_count": 8,
     "metadata": {},
     "output_type": "execute_result"
    }
   ],
   "source": [
    "#Since our input features are at different scales we need to standardize the input.\n",
    "#standardizing the input feature\n",
    "from sklearn.preprocessing import StandardScaler\n",
    "sc = StandardScaler()\n",
    "X = sc.fit_transform(X)\n",
    "X"
   ]
  },
  {
   "cell_type": "code",
   "execution_count": 9,
   "metadata": {},
   "outputs": [],
   "source": [
    "##We now split the input features and target variables into training dataset and test dataset. \n",
    "##out test dataset will be 30% of our entire dataset.\n",
    "\n",
    "from sklearn.model_selection import train_test_split\n",
    "X_train, X_test, y_train, y_test = train_test_split(X, y, test_size=0.3)"
   ]
  },
  {
   "cell_type": "code",
   "execution_count": 10,
   "metadata": {},
   "outputs": [],
   "source": [
    "#We have preprocessed the data and we are now ready to build the neural network.\n",
    "#We are using keras to build our neural network.\n",
    "#We import the keras library to create the neural network layers.\n",
    "\n",
    "\n",
    "#There are two main types of models available in keras — Sequential and Model. \n",
    "#we will use Sequential model to build our neural network.\n",
    "#We use Dense library to build input, hidden and output layers of a neural network."
   ]
  },
  {
   "cell_type": "code",
   "execution_count": 11,
   "metadata": {},
   "outputs": [],
   "source": [
    "from keras import Sequential\n",
    "from keras.layers import Dense"
   ]
  },
  {
   "cell_type": "code",
   "execution_count": 12,
   "metadata": {},
   "outputs": [],
   "source": [
    "classifier = Sequential()\n",
    "#First Hidden Layer\n",
    "classifier.add(Dense(3, activation='relu', kernel_initializer='random_normal', input_dim=6))\n",
    "#Second  Hidden Layer\n",
    "classifier.add(Dense(3, activation='relu', kernel_initializer='random_normal'))\n",
    "#Output Layer\n",
    "classifier.add(Dense(1, activation='sigmoid', kernel_initializer='random_normal'))"
   ]
  },
  {
   "cell_type": "code",
   "execution_count": 13,
   "metadata": {},
   "outputs": [],
   "source": [
    "#Compiling the neural network\n",
    "classifier.compile(optimizer ='adam',loss='binary_crossentropy', metrics =['accuracy'])"
   ]
  },
  {
   "cell_type": "code",
   "execution_count": 14,
   "metadata": {},
   "outputs": [
    {
     "name": "stdout",
     "output_type": "stream",
     "text": [
      "Epoch 1/100\n",
      "42000/42000 [==============================] - 54s 1ms/step - loss: 0.0493 - accuracy: 0.9909\n",
      "Epoch 2/100\n",
      "42000/42000 [==============================] - 55s 1ms/step - loss: 0.0317 - accuracy: 0.9944\n",
      "Epoch 3/100\n",
      "42000/42000 [==============================] - 55s 1ms/step - loss: 0.0293 - accuracy: 0.9949\n",
      "Epoch 4/100\n",
      "42000/42000 [==============================] - 56s 1ms/step - loss: 0.0286 - accuracy: 0.9951\n",
      "Epoch 5/100\n",
      "42000/42000 [==============================] - 56s 1ms/step - loss: 0.0282 - accuracy: 0.9951\n",
      "Epoch 6/100\n",
      "42000/42000 [==============================] - 54s 1ms/step - loss: 0.0277 - accuracy: 0.9952\n",
      "Epoch 7/100\n",
      "42000/42000 [==============================] - 57s 1ms/step - loss: 0.0274 - accuracy: 0.9952\n",
      "Epoch 8/100\n",
      "42000/42000 [==============================] - 57s 1ms/step - loss: 0.0272 - accuracy: 0.9952\n",
      "Epoch 9/100\n",
      "42000/42000 [==============================] - 58s 1ms/step - loss: 0.0272 - accuracy: 0.9952\n",
      "Epoch 10/100\n",
      "42000/42000 [==============================] - 58s 1ms/step - loss: 0.0272 - accuracy: 0.9952\n",
      "Epoch 11/100\n",
      "42000/42000 [==============================] - 57s 1ms/step - loss: 0.0271 - accuracy: 0.9953\n",
      "Epoch 12/100\n",
      "42000/42000 [==============================] - 57s 1ms/step - loss: 0.0270 - accuracy: 0.9953\n",
      "Epoch 13/100\n",
      "42000/42000 [==============================] - 58s 1ms/step - loss: 0.0271 - accuracy: 0.9952\n",
      "Epoch 14/100\n",
      "42000/42000 [==============================] - 59s 1ms/step - loss: 0.0270 - accuracy: 0.9953\n",
      "Epoch 15/100\n",
      "42000/42000 [==============================] - 56s 1ms/step - loss: 0.0271 - accuracy: 0.9953\n",
      "Epoch 16/100\n",
      "42000/42000 [==============================] - ETA: 0s - loss: 0.0271 - accuracy: 0.99 - 58s 1ms/step - loss: 0.0270 - accuracy: 0.9953\n",
      "Epoch 17/100\n",
      "42000/42000 [==============================] - 58s 1ms/step - loss: 0.0269 - accuracy: 0.9953\n",
      "Epoch 18/100\n",
      "42000/42000 [==============================] - 58s 1ms/step - loss: 0.0269 - accuracy: 0.9953\n",
      "Epoch 19/100\n",
      "42000/42000 [==============================] - 58s 1ms/step - loss: 0.0269 - accuracy: 0.9953\n",
      "Epoch 20/100\n",
      "42000/42000 [==============================] - 58s 1ms/step - loss: 0.0269 - accuracy: 0.9953\n",
      "Epoch 21/100\n",
      "42000/42000 [==============================] - 58s 1ms/step - loss: 0.0269 - accuracy: 0.9953\n",
      "Epoch 22/100\n",
      "42000/42000 [==============================] - 58s 1ms/step - loss: 0.0268 - accuracy: 0.9954\n",
      "Epoch 23/100\n",
      "42000/42000 [==============================] - 57s 1ms/step - loss: 0.0270 - accuracy: 0.9953\n",
      "Epoch 24/100\n",
      "42000/42000 [==============================] - 26s 623us/step - loss: 0.0268 - accuracy: 0.9954\n",
      "Epoch 25/100\n",
      "42000/42000 [==============================] - 26s 608us/step - loss: 0.0268 - accuracy: 0.9954\n",
      "Epoch 26/100\n",
      "42000/42000 [==============================] - 25s 597us/step - loss: 0.0268 - accuracy: 0.9953\n",
      "Epoch 27/100\n",
      "42000/42000 [==============================] - 28s 655us/step - loss: 0.0268 - accuracy: 0.9954\n",
      "Epoch 28/100\n",
      "42000/42000 [==============================] - 29s 696us/step - loss: 0.0268 - accuracy: 0.9954\n",
      "Epoch 29/100\n",
      "42000/42000 [==============================] - 30s 712us/step - loss: 0.0269 - accuracy: 0.9953\n",
      "Epoch 30/100\n",
      "42000/42000 [==============================] - 29s 680us/step - loss: 0.0267 - accuracy: 0.9954\n",
      "Epoch 31/100\n",
      "42000/42000 [==============================] - 30s 723us/step - loss: 0.0268 - accuracy: 0.9954\n",
      "Epoch 32/100\n",
      "42000/42000 [==============================] - 38s 915us/step - loss: 0.0268 - accuracy: 0.9953\n",
      "Epoch 33/100\n",
      "42000/42000 [==============================] - 33s 789us/step - loss: 0.0267 - accuracy: 0.9953\n",
      "Epoch 34/100\n",
      "42000/42000 [==============================] - 29s 681us/step - loss: 0.0267 - accuracy: 0.9954\n",
      "Epoch 35/100\n",
      "42000/42000 [==============================] - 33s 778us/step - loss: 0.0267 - accuracy: 0.9954s - loss: 0.0266 - accuracy\n",
      "Epoch 36/100\n",
      "42000/42000 [==============================] - 41s 986us/step - loss: 0.0267 - accuracy: 0.9954\n",
      "Epoch 37/100\n",
      "42000/42000 [==============================] - 32s 770us/step - loss: 0.0267 - accuracy: 0.9954\n",
      "Epoch 38/100\n",
      "42000/42000 [==============================] - 30s 703us/step - loss: 0.0268 - accuracy: 0.9954\n",
      "Epoch 39/100\n",
      "42000/42000 [==============================] - 26s 631us/step - loss: 0.0266 - accuracy: 0.9954\n",
      "Epoch 40/100\n",
      "42000/42000 [==============================] - 28s 664us/step - loss: 0.0267 - accuracy: 0.9954\n",
      "Epoch 41/100\n",
      "42000/42000 [==============================] - 34s 805us/step - loss: 0.0266 - accuracy: 0.9954\n",
      "Epoch 42/100\n",
      "42000/42000 [==============================] - 35s 843us/step - loss: 0.0267 - accuracy: 0.9954\n",
      "Epoch 43/100\n",
      "42000/42000 [==============================] - 29s 684us/step - loss: 0.0266 - accuracy: 0.9954\n",
      "Epoch 44/100\n",
      "42000/42000 [==============================] - 26s 628us/step - loss: 0.0266 - accuracy: 0.9954\n",
      "Epoch 45/100\n",
      "42000/42000 [==============================] - 31s 744us/step - loss: 0.0266 - accuracy: 0.9954\n",
      "Epoch 46/100\n",
      "42000/42000 [==============================] - 37s 877us/step - loss: 0.0266 - accuracy: 0.9954\n",
      "Epoch 47/100\n",
      "42000/42000 [==============================] - 41s 971us/step - loss: 0.0265 - accuracy: 0.9955\n",
      "Epoch 48/100\n",
      "42000/42000 [==============================] - 31s 737us/step - loss: 0.0266 - accuracy: 0.9954\n",
      "Epoch 49/100\n",
      "42000/42000 [==============================] - 26s 609us/step - loss: 0.0266 - accuracy: 0.9955\n",
      "Epoch 50/100\n",
      "42000/42000 [==============================] - 28s 664us/step - loss: 0.0265 - accuracy: 0.9955\n",
      "Epoch 51/100\n",
      "42000/42000 [==============================] - 37s 872us/step - loss: 0.0265 - accuracy: 0.9954\n",
      "Epoch 52/100\n",
      "42000/42000 [==============================] - 37s 871us/step - loss: 0.0265 - accuracy: 0.9955\n",
      "Epoch 53/100\n",
      "42000/42000 [==============================] - 32s 759us/step - loss: 0.0265 - accuracy: 0.9955\n",
      "Epoch 54/100\n",
      "42000/42000 [==============================] - 27s 640us/step - loss: 0.0265 - accuracy: 0.9954\n",
      "Epoch 55/100\n",
      "42000/42000 [==============================] - 34s 807us/step - loss: 0.0265 - accuracy: 0.9955\n",
      "Epoch 56/100\n",
      "42000/42000 [==============================] - 45s 1ms/step - loss: 0.0265 - accuracy: 0.9955\n",
      "Epoch 57/100\n",
      "42000/42000 [==============================] - 34s 811us/step - loss: 0.0265 - accuracy: 0.9955\n",
      "Epoch 58/100\n",
      "42000/42000 [==============================] - 27s 641us/step - loss: 0.0265 - accuracy: 0.9954\n",
      "Epoch 59/100\n",
      "42000/42000 [==============================] - 33s 792us/step - loss: 0.0266 - accuracy: 0.9954\n",
      "Epoch 60/100\n",
      "42000/42000 [==============================] - 42s 1ms/step - loss: 0.0265 - accuracy: 0.9955\n",
      "Epoch 61/100\n",
      "42000/42000 [==============================] - 38s 911us/step - loss: 0.0265 - accuracy: 0.9955\n",
      "Epoch 62/100\n",
      "42000/42000 [==============================] - 30s 711us/step - loss: 0.0265 - accuracy: 0.9955\n",
      "Epoch 63/100\n",
      "42000/42000 [==============================] - 30s 707us/step - loss: 0.0264 - accuracy: 0.9955\n",
      "Epoch 64/100\n",
      "42000/42000 [==============================] - 43s 1ms/step - loss: 0.0264 - accuracy: 0.9955\n",
      "Epoch 65/100\n",
      "42000/42000 [==============================] - 36s 865us/step - loss: 0.0265 - accuracy: 0.9954\n",
      "Epoch 66/100\n",
      "42000/42000 [==============================] - 32s 770us/step - loss: 0.0264 - accuracy: 0.9955\n",
      "Epoch 67/100\n",
      "42000/42000 [==============================] - 34s 800us/step - loss: 0.0264 - accuracy: 0.9955\n",
      "Epoch 68/100\n",
      "42000/42000 [==============================] - 41s 970us/step - loss: 0.0265 - accuracy: 0.9955\n",
      "Epoch 69/100\n",
      "42000/42000 [==============================] - 38s 896us/step - loss: 0.0265 - accuracy: 0.9955\n",
      "Epoch 70/100\n",
      "42000/42000 [==============================] - 31s 730us/step - loss: 0.0265 - accuracy: 0.9955\n",
      "Epoch 71/100\n",
      "42000/42000 [==============================] - 34s 815us/step - loss: 0.0264 - accuracy: 0.9955\n",
      "Epoch 72/100\n",
      "42000/42000 [==============================] - 44s 1ms/step - loss: 0.0264 - accuracy: 0.9955\n",
      "Epoch 73/100\n",
      "42000/42000 [==============================] - 36s 846us/step - loss: 0.0264 - accuracy: 0.9955\n",
      "Epoch 74/100\n",
      "42000/42000 [==============================] - 31s 740us/step - loss: 0.0264 - accuracy: 0.9955\n",
      "Epoch 75/100\n",
      "42000/42000 [==============================] - 33s 784us/step - loss: 0.0263 - accuracy: 0.9955\n",
      "Epoch 76/100\n"
     ]
    },
    {
     "name": "stdout",
     "output_type": "stream",
     "text": [
      "42000/42000 [==============================] - 51s 1ms/step - loss: 0.0264 - accuracy: 0.9954\n",
      "Epoch 77/100\n",
      "42000/42000 [==============================] - 42s 1ms/step - loss: 0.0264 - accuracy: 0.9955\n",
      "Epoch 78/100\n",
      "42000/42000 [==============================] - 34s 807us/step - loss: 0.0263 - accuracy: 0.9955\n",
      "Epoch 79/100\n",
      "42000/42000 [==============================] - 44s 1ms/step - loss: 0.0264 - accuracy: 0.9955\n",
      "Epoch 80/100\n",
      "42000/42000 [==============================] - 45s 1ms/step - loss: 0.0264 - accuracy: 0.9955\n",
      "Epoch 81/100\n",
      "42000/42000 [==============================] - 35s 832us/step - loss: 0.0264 - accuracy: 0.9955\n",
      "Epoch 82/100\n",
      "42000/42000 [==============================] - 40s 944us/step - loss: 0.0265 - accuracy: 0.9954\n",
      "Epoch 83/100\n",
      "42000/42000 [==============================] - 47s 1ms/step - loss: 0.0263 - accuracy: 0.9955\n",
      "Epoch 84/100\n",
      "42000/42000 [==============================] - 35s 831us/step - loss: 0.0264 - accuracy: 0.9955\n",
      "Epoch 85/100\n",
      "42000/42000 [==============================] - 39s 925us/step - loss: 0.0263 - accuracy: 0.9955\n",
      "Epoch 86/100\n",
      "42000/42000 [==============================] - 49s 1ms/step - loss: 0.0264 - accuracy: 0.9956\n",
      "Epoch 87/100\n",
      "42000/42000 [==============================] - 36s 866us/step - loss: 0.0264 - accuracy: 0.9955\n",
      "Epoch 88/100\n",
      "42000/42000 [==============================] - 36s 859us/step - loss: 0.0264 - accuracy: 0.9955\n",
      "Epoch 89/100\n",
      "42000/42000 [==============================] - 47s 1ms/step - loss: 0.0263 - accuracy: 0.9955\n",
      "Epoch 90/100\n",
      "42000/42000 [==============================] - 38s 904us/step - loss: 0.0263 - accuracy: 0.9955\n",
      "Epoch 91/100\n",
      "42000/42000 [==============================] - 34s 813us/step - loss: 0.0263 - accuracy: 0.9955\n",
      "Epoch 92/100\n",
      "42000/42000 [==============================] - 46s 1ms/step - loss: 0.0263 - accuracy: 0.9955\n",
      "Epoch 93/100\n",
      "42000/42000 [==============================] - 44s 1ms/step - loss: 0.0263 - accuracy: 0.9955\n",
      "Epoch 94/100\n",
      "42000/42000 [==============================] - 32s 769us/step - loss: 0.0263 - accuracy: 0.9955\n",
      "Epoch 95/100\n",
      "42000/42000 [==============================] - 34s 802us/step - loss: 0.0263 - accuracy: 0.9955\n",
      "Epoch 96/100\n",
      "42000/42000 [==============================] - 47s 1ms/step - loss: 0.0263 - accuracy: 0.9955\n",
      "Epoch 97/100\n",
      "42000/42000 [==============================] - 32s 754us/step - loss: 0.0263 - accuracy: 0.9955\n",
      "Epoch 98/100\n",
      "42000/42000 [==============================] - 28s 663us/step - loss: 0.0263 - accuracy: 0.9955\n",
      "Epoch 99/100\n",
      "42000/42000 [==============================] - 35s 839us/step - loss: 0.0263 - accuracy: 0.9956\n",
      "Epoch 100/100\n",
      "42000/42000 [==============================] - 39s 925us/step - loss: 0.0263 - accuracy: 0.9955\n"
     ]
    },
    {
     "data": {
      "text/plain": [
       "<tensorflow.python.keras.callbacks.History at 0x1cec0e5f248>"
      ]
     },
     "execution_count": 14,
     "metadata": {},
     "output_type": "execute_result"
    }
   ],
   "source": [
    "#Fitting the data to the training dataset\n",
    "classifier.fit(X_train,y_train, batch_size=10, epochs=100)"
   ]
  },
  {
   "cell_type": "code",
   "execution_count": 15,
   "metadata": {},
   "outputs": [
    {
     "name": "stdout",
     "output_type": "stream",
     "text": [
      "13125/13125 [==============================] - 7s 518us/step - loss: 0.0277 - accuracy: 0.9951\n"
     ]
    },
    {
     "data": {
      "text/plain": [
       "[0.027670949697494507, 0.9950642585754395]"
      ]
     },
     "execution_count": 15,
     "metadata": {},
     "output_type": "execute_result"
    }
   ],
   "source": [
    "##We can also evaluate the loss value & metrics values for the model in test mode using evaluate function\n",
    "eval_model=classifier.evaluate(X_train, y_train)\n",
    "eval_model"
   ]
  },
  {
   "cell_type": "code",
   "execution_count": 16,
   "metadata": {},
   "outputs": [],
   "source": [
    "#We now predict the output for our test dataset. \n",
    "#If the prediction is greater than 0.5 then the output is 1 else the output is 0\n",
    "\n",
    "y_pred=classifier.predict(X_test)\n",
    "y_pred =(y_pred>0.5)"
   ]
  },
  {
   "cell_type": "code",
   "execution_count": 17,
   "metadata": {},
   "outputs": [
    {
     "name": "stdout",
     "output_type": "stream",
     "text": [
      "[[ 45883    673]\n",
      " [   223 133221]]\n"
     ]
    }
   ],
   "source": [
    "#we check the accuracy on the test dataset\n",
    "from sklearn.metrics import confusion_matrix\n",
    "cm = confusion_matrix(y_test, y_pred)\n",
    "print(cm)"
   ]
  },
  {
   "cell_type": "code",
   "execution_count": 20,
   "metadata": {},
   "outputs": [
    {
     "name": "stdout",
     "output_type": "stream",
     "text": [
      "0.9950222222222223\n"
     ]
    }
   ],
   "source": [
    "from sklearn.metrics import accuracy_score\n",
    "acc=accuracy_score(y_test, y_pred)\n",
    "print(acc)"
   ]
  },
  {
   "cell_type": "code",
   "execution_count": 1,
   "metadata": {},
   "outputs": [],
   "source": [
    "####DESSION TREE"
   ]
  },
  {
   "cell_type": "code",
   "execution_count": 2,
   "metadata": {},
   "outputs": [],
   "source": [
    "import pandas as pd\n",
    "import numpy as np\n",
    "from matplotlib import pyplot as plt # For plotting\n",
    "from sklearn.tree import DecisionTreeClassifier # To run decision tree model\n",
    "from sklearn import tree # to visualize decision trees"
   ]
  },
  {
   "cell_type": "code",
   "execution_count": 3,
   "metadata": {},
   "outputs": [],
   "source": [
    "df=pd.read_csv('6_lakh(head).csv')"
   ]
  },
  {
   "cell_type": "code",
   "execution_count": 4,
   "metadata": {},
   "outputs": [
    {
     "data": {
      "text/plain": [
       "'LABEL'"
      ]
     },
     "execution_count": 4,
     "metadata": {},
     "output_type": "execute_result"
    }
   ],
   "source": [
    "Xcol=df.columns[:-1]\n",
    "ycol=df.columns[-1]\n",
    "ycol"
   ]
  },
  {
   "cell_type": "code",
   "execution_count": 5,
   "metadata": {},
   "outputs": [],
   "source": [
    "X = df.iloc[:,0:6].values\n",
    "y = df.iloc[:,6].values"
   ]
  },
  {
   "cell_type": "code",
   "execution_count": 6,
   "metadata": {},
   "outputs": [
    {
     "data": {
      "text/plain": [
       "array([[7.26000000e+02, 1.60900000e+03, 1.26000000e+02, 1.00000000e+00,\n",
       "        1.26000000e+02, 8.42105263e-01],\n",
       "       [4.25200000e+03, 1.47000000e+02, 7.70000000e+01, 1.00000000e+00,\n",
       "        3.57500000e+02, 2.65217391e+00],\n",
       "       [6.99600000e+03, 4.72800000e+03, 6.85000000e+02, 1.00000000e+00,\n",
       "        6.85000000e+02, 7.05128205e-01],\n",
       "       ...,\n",
       "       [2.46600000e+03, 2.27600000e+03, 1.60000000e+01, 1.00000000e+00,\n",
       "        1.53333333e+01, 6.22891566e+00],\n",
       "       [4.48400000e+03, 7.76000000e+02, 2.00000000e+00, 1.00000000e+00,\n",
       "        2.00000000e+00, 1.07037037e+01],\n",
       "       [5.43000000e+02, 3.16000000e+02, 3.00000000e+00, 1.00000000e+00,\n",
       "        3.00000000e+00, 6.15000000e+02]])"
      ]
     },
     "execution_count": 6,
     "metadata": {},
     "output_type": "execute_result"
    }
   ],
   "source": [
    "X"
   ]
  },
  {
   "cell_type": "code",
   "execution_count": 7,
   "metadata": {},
   "outputs": [
    {
     "data": {
      "text/plain": [
       "DecisionTreeClassifier(ccp_alpha=0.0, class_weight=None, criterion='gini',\n",
       "                       max_depth=3, max_features=None, max_leaf_nodes=None,\n",
       "                       min_impurity_decrease=0.0, min_impurity_split=None,\n",
       "                       min_samples_leaf=1, min_samples_split=2,\n",
       "                       min_weight_fraction_leaf=0.0, presort='deprecated',\n",
       "                       random_state=None, splitter='best')"
      ]
     },
     "execution_count": 7,
     "metadata": {},
     "output_type": "execute_result"
    }
   ],
   "source": [
    "clf = DecisionTreeClassifier(criterion='gini',splitter='best',max_depth=3)\n",
    "# Fit the model\n",
    "clf.fit(X,y)"
   ]
  },
  {
   "cell_type": "code",
   "execution_count": 8,
   "metadata": {},
   "outputs": [
    {
     "data": {
      "image/png": "[encoded data removed]",
      "text/plain": [
       "<Figure size 1800x1440 with 1 Axes>"
      ]
     },
     "metadata": {
      "needs_background": "light"
     },
     "output_type": "display_data"
    }
   ],
   "source": [
    "# Visualize the results in a beautiful manner using sklearn plot_tree\n",
    "# Look documentation for modifying fonts: https://scikit-learn.org/stable/modules/generated/sklearn.tree.plot_tree.html\n",
    "fig = plt.figure(figsize=(25,20))\n",
    "_ = tree.plot_tree(clf, \n",
    "                   feature_names=Xcol,  \n",
    "                   class_names=['SPAM','NOTSPAM'],\n",
    "                   filled=True)"
   ]
  },
  {
   "cell_type": "code",
   "execution_count": 9,
   "metadata": {},
   "outputs": [
    {
     "data": {
      "text/plain": [
       "0.9960316666666666"
      ]
     },
     "execution_count": 9,
     "metadata": {},
     "output_type": "execute_result"
    }
   ],
   "source": [
    "from sklearn.metrics import accuracy_score\n",
    "y_pred=clf.predict(X)\n",
    "accuracy=accuracy_score(y,y_pred)\n",
    "accuracy"
   ]
  },
  {
   "cell_type": "code",
   "execution_count": 11,
   "metadata": {},
   "outputs": [],
   "source": [
    "df1=pd.read_csv('test(head).csv')\n",
    "X_test= df1.iloc[:,0:6].values\n",
    "y_test= df1.iloc[:,6].values"
   ]
  },
  {
   "cell_type": "code",
   "execution_count": 12,
   "metadata": {},
   "outputs": [
    {
     "data": {
      "text/plain": [
       "0.968"
      ]
     },
     "execution_count": 12,
     "metadata": {},
     "output_type": "execute_result"
    }
   ],
   "source": [
    "y_pred=clf.predict(X_test)\n",
    "accuracy=accuracy_score(y_test,y_pred)\n",
    "accuracy"
   ]
  },
  {
   "cell_type": "code",
   "execution_count": 13,
   "metadata": {},
   "outputs": [],
   "source": [
    "###Logistic Regression"
   ]
  },
  {
   "cell_type": "code",
   "execution_count": 14,
   "metadata": {},
   "outputs": [],
   "source": [
    "import numpy as np\n",
    "import pandas as pd\n",
    "from sklearn.linear_model import LogisticRegression\n",
    "from sklearn.metrics import mean_squared_error\n",
    "from sklearn.metrics import accuracy_score"
   ]
  },
  {
   "cell_type": "code",
   "execution_count": 15,
   "metadata": {},
   "outputs": [
    {
     "data": {
      "text/html": [
       "<div>\n",
       "<style scoped>\n",
       "    .dataframe tbody tr th:only-of-type {\n",
       "        vertical-align: middle;\n",
       "    }\n",
       "\n",
       "    .dataframe tbody tr th {\n",
       "        vertical-align: top;\n",
       "    }\n",
       "\n",
       "    .dataframe thead th {\n",
       "        text-align: right;\n",
       "    }\n",
       "</style>\n",
       "<table border=\"1\" class=\"dataframe\">\n",
       "  <thead>\n",
       "    <tr style=\"text-align: right;\">\n",
       "      <th></th>\n",
       "      <th>FROM</th>\n",
       "      <th>TO</th>\n",
       "      <th>DURATION</th>\n",
       "      <th>mu</th>\n",
       "      <th>Sigma</th>\n",
       "      <th>psi</th>\n",
       "      <th>LABEL</th>\n",
       "    </tr>\n",
       "  </thead>\n",
       "  <tbody>\n",
       "    <tr>\n",
       "      <th>0</th>\n",
       "      <td>726</td>\n",
       "      <td>1609</td>\n",
       "      <td>126</td>\n",
       "      <td>1.0</td>\n",
       "      <td>126.0</td>\n",
       "      <td>0.842105</td>\n",
       "      <td>1</td>\n",
       "    </tr>\n",
       "    <tr>\n",
       "      <th>1</th>\n",
       "      <td>4252</td>\n",
       "      <td>147</td>\n",
       "      <td>77</td>\n",
       "      <td>1.0</td>\n",
       "      <td>357.5</td>\n",
       "      <td>2.652174</td>\n",
       "      <td>1</td>\n",
       "    </tr>\n",
       "    <tr>\n",
       "      <th>2</th>\n",
       "      <td>6996</td>\n",
       "      <td>4728</td>\n",
       "      <td>685</td>\n",
       "      <td>1.0</td>\n",
       "      <td>685.0</td>\n",
       "      <td>0.705128</td>\n",
       "      <td>1</td>\n",
       "    </tr>\n",
       "    <tr>\n",
       "      <th>3</th>\n",
       "      <td>505</td>\n",
       "      <td>1870</td>\n",
       "      <td>1</td>\n",
       "      <td>1.0</td>\n",
       "      <td>1.0</td>\n",
       "      <td>630.000000</td>\n",
       "      <td>0</td>\n",
       "    </tr>\n",
       "    <tr>\n",
       "      <th>4</th>\n",
       "      <td>3903</td>\n",
       "      <td>8342</td>\n",
       "      <td>149</td>\n",
       "      <td>1.0</td>\n",
       "      <td>149.0</td>\n",
       "      <td>0.778523</td>\n",
       "      <td>1</td>\n",
       "    </tr>\n",
       "  </tbody>\n",
       "</table>\n",
       "</div>"
      ],
      "text/plain": [
       "   FROM    TO  DURATION   mu  Sigma         psi  LABEL\n",
       "0   726  1609       126  1.0  126.0    0.842105      1\n",
       "1  4252   147        77  1.0  357.5    2.652174      1\n",
       "2  6996  4728       685  1.0  685.0    0.705128      1\n",
       "3   505  1870         1  1.0    1.0  630.000000      0\n",
       "4  3903  8342       149  1.0  149.0    0.778523      1"
      ]
     },
     "execution_count": 15,
     "metadata": {},
     "output_type": "execute_result"
    }
   ],
   "source": [
    "data=pd.read_csv(\"6_lakh(head).csv\")\n",
    "data.head()"
   ]
  },
  {
   "cell_type": "code",
   "execution_count": 16,
   "metadata": {},
   "outputs": [],
   "source": [
    "model=LogisticRegression()"
   ]
  },
  {
   "cell_type": "code",
   "execution_count": 17,
   "metadata": {},
   "outputs": [],
   "source": [
    "X=(data.iloc[:,data.columns!=\"LABEL\"]).values\n",
    "y=(data[\"LABEL\"]).values"
   ]
  },
  {
   "cell_type": "code",
   "execution_count": 18,
   "metadata": {},
   "outputs": [
    {
     "data": {
      "text/plain": [
       "LogisticRegression(C=1.0, class_weight=None, dual=False, fit_intercept=True,\n",
       "                   intercept_scaling=1, l1_ratio=None, max_iter=100,\n",
       "                   multi_class='auto', n_jobs=None, penalty='l2',\n",
       "                   random_state=None, solver='lbfgs', tol=0.0001, verbose=0,\n",
       "                   warm_start=False)"
      ]
     },
     "execution_count": 18,
     "metadata": {},
     "output_type": "execute_result"
    }
   ],
   "source": [
    "model.fit(X,y)"
   ]
  },
  {
   "cell_type": "code",
   "execution_count": 19,
   "metadata": {},
   "outputs": [
    {
     "name": "stdout",
     "output_type": "stream",
     "text": [
      "0.017495\n"
     ]
    }
   ],
   "source": [
    "y_pred=model.predict(X)\n",
    "mse=mean_squared_error(y,y_pred)\n",
    "print(mse)"
   ]
  },
  {
   "cell_type": "code",
   "execution_count": 20,
   "metadata": {},
   "outputs": [
    {
     "name": "stdout",
     "output_type": "stream",
     "text": [
      "0.982505\n"
     ]
    }
   ],
   "source": [
    "acc=accuracy_score(y,y_pred)\n",
    "print(acc)"
   ]
  },
  {
   "cell_type": "code",
   "execution_count": 21,
   "metadata": {},
   "outputs": [
    {
     "data": {
      "text/html": [
       "<div>\n",
       "<style scoped>\n",
       "    .dataframe tbody tr th:only-of-type {\n",
       "        vertical-align: middle;\n",
       "    }\n",
       "\n",
       "    .dataframe tbody tr th {\n",
       "        vertical-align: top;\n",
       "    }\n",
       "\n",
       "    .dataframe thead th {\n",
       "        text-align: right;\n",
       "    }\n",
       "</style>\n",
       "<table border=\"1\" class=\"dataframe\">\n",
       "  <thead>\n",
       "    <tr style=\"text-align: right;\">\n",
       "      <th></th>\n",
       "      <th>FROM</th>\n",
       "      <th>TO</th>\n",
       "      <th>DURATION</th>\n",
       "      <th>mu</th>\n",
       "      <th>Sigma</th>\n",
       "      <th>psi</th>\n",
       "      <th>LABEL</th>\n",
       "    </tr>\n",
       "  </thead>\n",
       "  <tbody>\n",
       "    <tr>\n",
       "      <th>0</th>\n",
       "      <td>1</td>\n",
       "      <td>75</td>\n",
       "      <td>2</td>\n",
       "      <td>1.0</td>\n",
       "      <td>283.0</td>\n",
       "      <td>0.594595</td>\n",
       "      <td>1</td>\n",
       "    </tr>\n",
       "    <tr>\n",
       "      <th>1</th>\n",
       "      <td>40</td>\n",
       "      <td>88</td>\n",
       "      <td>2</td>\n",
       "      <td>1.0</td>\n",
       "      <td>2.0</td>\n",
       "      <td>0.754545</td>\n",
       "      <td>1</td>\n",
       "    </tr>\n",
       "    <tr>\n",
       "      <th>2</th>\n",
       "      <td>2</td>\n",
       "      <td>59</td>\n",
       "      <td>5</td>\n",
       "      <td>1.0</td>\n",
       "      <td>240.5</td>\n",
       "      <td>0.626087</td>\n",
       "      <td>1</td>\n",
       "    </tr>\n",
       "    <tr>\n",
       "      <th>3</th>\n",
       "      <td>30</td>\n",
       "      <td>70</td>\n",
       "      <td>7</td>\n",
       "      <td>1.0</td>\n",
       "      <td>7.0</td>\n",
       "      <td>0.702970</td>\n",
       "      <td>1</td>\n",
       "    </tr>\n",
       "    <tr>\n",
       "      <th>4</th>\n",
       "      <td>29</td>\n",
       "      <td>71</td>\n",
       "      <td>9</td>\n",
       "      <td>1.0</td>\n",
       "      <td>234.0</td>\n",
       "      <td>0.500000</td>\n",
       "      <td>1</td>\n",
       "    </tr>\n",
       "  </tbody>\n",
       "</table>\n",
       "</div>"
      ],
      "text/plain": [
       "   FROM  TO  DURATION   mu  Sigma       psi  LABEL\n",
       "0     1  75         2  1.0  283.0  0.594595      1\n",
       "1    40  88         2  1.0    2.0  0.754545      1\n",
       "2     2  59         5  1.0  240.5  0.626087      1\n",
       "3    30  70         7  1.0    7.0  0.702970      1\n",
       "4    29  71         9  1.0  234.0  0.500000      1"
      ]
     },
     "execution_count": 21,
     "metadata": {},
     "output_type": "execute_result"
    }
   ],
   "source": [
    "data1=pd.read_csv(\"test(head).csv\")\n",
    "data1.head()"
   ]
  },
  {
   "cell_type": "code",
   "execution_count": 22,
   "metadata": {},
   "outputs": [],
   "source": [
    "Xtest=(data1.iloc[:,data.columns!=\"LABEL\"]).values\n",
    "ytest=(data1[\"LABEL\"]).values\n"
   ]
  },
  {
   "cell_type": "code",
   "execution_count": 23,
   "metadata": {},
   "outputs": [
    {
     "name": "stdout",
     "output_type": "stream",
     "text": [
      "0.0131\n"
     ]
    }
   ],
   "source": [
    "ytest_pred=model.predict(Xtest)\n",
    "mse_test=mean_squared_error(ytest,ytest_pred)\n",
    "print(mse_test)"
   ]
  },
  {
   "cell_type": "code",
   "execution_count": 24,
   "metadata": {},
   "outputs": [
    {
     "name": "stdout",
     "output_type": "stream",
     "text": [
      "0.9869\n"
     ]
    }
   ],
   "source": [
    "acc=accuracy_score(ytest,ytest_pred)\n",
    "print(acc)"
   ]
  },
  {
   "cell_type": "code",
   "execution_count": null,
   "metadata": {},
   "outputs": [],
   "source": []
  }
 ],
 "metadata": {
  "kernelspec": {
   "display_name": "Python 3",
   "language": "python",
   "name": "python3"
  },
  "language_info": {
   "codemirror_mode": {
    "name": "ipython",
    "version": 3
   },
   "file_extension": ".py",
   "mimetype": "text/x-python",
   "name": "python",
   "nbconvert_exporter": "python",
   "pygments_lexer": "ipython3",
   "version": "3.7.6"
  }
 },
 "nbformat": 4,
 "nbformat_minor": 4
}
